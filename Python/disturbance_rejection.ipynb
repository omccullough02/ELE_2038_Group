{
 "cells": [
  {
   "cell_type": "code",
   "execution_count": 26,
   "metadata": {},
   "outputs": [],
   "source": [
    "import matplotlib.pyplot as plt\n",
    "import control as ctrl\n",
    "import sympy as sym"
   ]
  },
  {
   "cell_type": "code",
   "execution_count": 27,
   "metadata": {},
   "outputs": [
    {
     "data": {
      "text/latex": [
       "$$\\frac{4.563}{s^3 + 1.517 \\times 10^{4} s^2 + 2.467 \\times 10^{5} s + 4.413 \\times 10^{7}}$$"
      ],
      "text/plain": [
       "TransferFunction(array([4.56299882]), array([1.00000000e+00, 1.51749010e+04, 2.46652330e+05, 4.41307275e+07]))"
      ]
     },
     "execution_count": 27,
     "metadata": {},
     "output_type": "execute_result"
    }
   ],
   "source": [
    "# Numeric values of partial derivatives of theta and I_dot calculated in system_derivation.ipynb\n",
    "A = -2911.22409992101\n",
    "B = -16.0791589363018\n",
    "C = 0.662228074503118\n",
    "D = 0\n",
    "E = -15158.8218607722\n",
    "F = 6.89037357307828\n",
    "s = ctrl.TransferFunction.s\n",
    "\n",
    "Gx = (C * F) / ((s ** 3) - s ** 2 * (B + E) - s * (A - B * E) + A * E)\n",
    "Gx"
   ]
  },
  {
   "cell_type": "code",
   "execution_count": 28,
   "metadata": {},
   "outputs": [
    {
     "data": {
      "text/latex": [
       "$$\\frac{1}{0.03 s + 1}$$"
      ],
      "text/plain": [
       "TransferFunction(array([1]), array([0.03, 1.  ]))"
      ]
     },
     "execution_count": 28,
     "metadata": {},
     "output_type": "execute_result"
    }
   ],
   "source": [
    "Km = 1\n",
    "Tm = 0.03\n",
    "# Transfer function for the sensor measuring the position of the ball, acts as a 30ms delay back to the PID controller\n",
    "Gs = (Km) / (Tm*s + 1)\n",
    "Gs"
   ]
  },
  {
   "cell_type": "code",
   "execution_count": 39,
   "metadata": {},
   "outputs": [
    {
     "data": {
      "text/latex": [
       "$$\\frac{10 s^2 + 980 s + 1}{s}$$"
      ],
      "text/plain": [
       "TransferFunction(array([ 10, 980,   1]), array([1, 0]))"
      ]
     },
     "execution_count": 39,
     "metadata": {},
     "output_type": "execute_result"
    }
   ],
   "source": [
    "Kp = 980\n",
    "Ki = 1\n",
    "Kd = 10\n",
    "Gc = Kp + Ki/s + Kd*s\n",
    "Gc"
   ]
  },
  {
   "cell_type": "code",
   "execution_count": 40,
   "metadata": {},
   "outputs": [
    {
     "name": "stderr",
     "output_type": "stream",
     "text": [
      "/Users/unisira/opt/anaconda3/lib/python3.8/site-packages/scipy/sparse/linalg/matfuncs.py:709: LinAlgWarning: Ill-conditioned matrix (rcond=9.8178e-23): result may not be accurate.\n",
      "  return solve(Q, P)\n"
     ]
    },
    {
     "data": {
      "image/png": "[encoded data removed]",
      "text/plain": [
       "<Figure size 432x288 with 1 Axes>"
      ]
     },
     "metadata": {
      "needs_background": "light"
     },
     "output_type": "display_data"
    }
   ],
   "source": [
    "#                                           _______\n",
    "#                                 D ------ |   Gd  |\n",
    "#                                          |_______|\n",
    "#                                              |\n",
    "#        +           ______        ______   +  v +\n",
    "# V ------>( ) ---> |  Gx  |------|  Gc  |--->( )------- X\n",
    "#         - ^       |______|      |______|          |\n",
    "#           |               ________                |\n",
    "#           |              |   Gs   |               |\n",
    "#            --------------|________|----------------\n",
    "\n",
    "# Disturbance transfer function, equal to Gx\n",
    "Gd = Gx\n",
    "\n",
    "# Derivation shown in report\n",
    "Gload = (Gd) / (1 + Gs * Gc * Gx)\n",
    "Gload\n",
    "\n",
    "t_step, d_step = ctrl.step_response(Gload)\n",
    "\n",
    "plt.plot(t_step, d_step, label='Step response')\n",
    "plt.legend()\n",
    "plt.xlabel('Time (s)')\n",
    "plt.ylabel('Relative position (m)')\n",
    "plt.show()"
   ]
  },
  {
   "cell_type": "code",
   "execution_count": null,
   "metadata": {},
   "outputs": [],
   "source": []
  }
 ],
 "metadata": {
  "kernelspec": {
   "display_name": "base",
   "language": "python",
   "name": "python3"
  },
  "language_info": {
   "codemirror_mode": {
    "name": "ipython",
    "version": 3
   },
   "file_extension": ".py",
   "mimetype": "text/x-python",
   "name": "python",
   "nbconvert_exporter": "python",
   "pygments_lexer": "ipython3",
   "version": "3.8.8"
  },
  "orig_nbformat": 4
 },
 "nbformat": 4,
 "nbformat_minor": 2
}

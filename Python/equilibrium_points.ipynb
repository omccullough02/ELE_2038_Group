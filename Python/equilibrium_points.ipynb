{
 "cells": [
  {
   "cell_type": "code",
   "execution_count": 7,
   "metadata": {},
   "outputs": [
    {
     "name": "stdout",
     "output_type": "stream",
     "text": [
      "Requirement already satisfied: sympy in /Users/unisira/opt/anaconda3/lib/python3.8/site-packages (1.11.1)\n",
      "Requirement already satisfied: mpmath>=0.19 in /Users/unisira/opt/anaconda3/lib/python3.8/site-packages (from sympy) (1.2.1)\n"
     ]
    }
   ],
   "source": [
    "!pip install sympy -U\n",
    "!pip install numpy -U"
   ]
  },
  {
   "cell_type": "code",
   "execution_count": 16,
   "metadata": {},
   "outputs": [],
   "source": [
    "import sympy as sym\n",
    "import numpy as np\n",
    "\n",
    "# Define constants used\n",
    "m, g, d, delta, R, L_0, L_1, alpha, c, k, b, phi = sym.symbols('m, g, d, delta, R, L_0, L_1, alpha, c, k, b, phi', positive=True)\n",
    "# Define SSR state variables and inputs\n",
    "V, x1, x2, x3 = sym.symbols('V, x1, x2, x3', real=True)"
   ]
  },
  {
   "cell_type": "code",
   "execution_count": 9,
   "metadata": {},
   "outputs": [
    {
     "data": {
      "text/latex": [
       "$\\displaystyle \\frac{5 \\left(- b x_{2} + \\frac{c x_{3}^{2}}{\\left(\\delta - x_{1}\\right)^{2}} + g m \\sin{\\left(\\phi \\right)} - k \\left(- d + x_{1}\\right)\\right)}{7 m}$"
      ],
      "text/plain": [
       "5*(-b*x2 + c*x3**2/(delta - x1)**2 + g*m*sin(phi) - k*(-d + x1))/(7*m)"
      ]
     },
     "execution_count": 9,
     "metadata": {},
     "output_type": "execute_result"
    }
   ],
   "source": [
    "# theta(x1, x2, x3)\n",
    "theta = 5 / (7 * m) * ((c * (x3 ** 2) / (delta - x1) ** 2) + m * g * sym.sin(phi) - k * (x1 - d) - b * x2)\n",
    "theta"
   ]
  },
  {
   "cell_type": "code",
   "execution_count": 10,
   "metadata": {},
   "outputs": [
    {
     "data": {
      "text/latex": [
       "$\\displaystyle \\frac{- R x_{3} + V}{L_{0} + L_{1} e^{- \\alpha \\left(\\delta - x_{1}\\right)}}$"
      ],
      "text/plain": [
       "(-R*x3 + V)/(L_0 + L_1*exp(-alpha*(delta - x1)))"
      ]
     },
     "execution_count": 10,
     "metadata": {},
     "output_type": "execute_result"
    }
   ],
   "source": [
    "# Inductance \n",
    "L = L_0 + L_1 * sym.exp(-alpha * (delta - x1))\n",
    "\n",
    "# I_dot(x1, x3, V)\n",
    "I_dot = (V - x3 * R) / L\n",
    "I_dot"
   ]
  },
  {
   "cell_type": "code",
   "execution_count": 11,
   "metadata": {},
   "outputs": [],
   "source": [
    "# Initial set points: In the problem statement we were told that the system must operate with x1 around 0.5m,\n",
    "#                     the SSR we obtained in the report set to zero states that x2 must equal 0\n",
    "x1_sp = 0.5\n",
    "x2_sp = 0.0\n",
    "\n",
    "# All parameters used in a list, without voltage and current equilibrium points\n",
    "PARAMETERS = [\n",
    "    (m, 0.462),\n",
    "    (g, 9.81),\n",
    "    (d, 0.42),\n",
    "    (delta, 0.65),\n",
    "    (R, 2200),\n",
    "    (L_0, 0.125),\n",
    "    (L_1, 0.0241),\n",
    "    (alpha, 1 / 1.2),\n",
    "    (c, 6.811),\n",
    "    (k, 1885),\n",
    "    (b, 10.4),\n",
    "    (phi, 41),\n",
    "    (x1, x1_sp),\n",
    "    (x2, x2_sp),\n",
    "]"
   ]
  },
  {
   "cell_type": "code",
   "execution_count": 12,
   "metadata": {},
   "outputs": [
    {
     "data": {
      "text/latex": [
       "$\\displaystyle 468.013468013468 x_{3}^{2} - 233.147804576376 + 7.00714285714286 \\sin{\\left(41 \\right)}$"
      ],
      "text/plain": [
       "468.013468013468*x3**2 - 233.147804576376 + 7.00714285714286*sin(41)"
      ]
     },
     "execution_count": 12,
     "metadata": {},
     "output_type": "execute_result"
    }
   ],
   "source": [
    "theta_sub = theta.subs(PARAMETERS)\n",
    "theta_sub"
   ]
  },
  {
   "cell_type": "code",
   "execution_count": 17,
   "metadata": {},
   "outputs": [
    {
     "data": {
      "text/plain": [
       "[-0.707488266645418, 0.707488266645418]"
      ]
     },
     "execution_count": 17,
     "metadata": {},
     "output_type": "execute_result"
    }
   ],
   "source": [
    "# Solve for x3 when set equal to 0 (current equilibrium point)\n",
    "solutions = sym.solve(theta_sub)\n",
    "solutions"
   ]
  },
  {
   "cell_type": "code",
   "execution_count": 20,
   "metadata": {},
   "outputs": [
    {
     "data": {
      "text/latex": [
       "$\\displaystyle 0.707488266645418$"
      ],
      "text/plain": [
       "0.707488266645418"
      ]
     },
     "execution_count": 20,
     "metadata": {},
     "output_type": "execute_result"
    }
   ],
   "source": [
    "# x3 term was squared in theta, select the absolute value as the set point\n",
    "x3_sp = np.abs(solutions)[0]\n",
    "x3_sp"
   ]
  },
  {
   "cell_type": "code",
   "execution_count": 21,
   "metadata": {},
   "outputs": [
    {
     "data": {
      "text/latex": [
       "$\\displaystyle 6.83675719336409 V - 10641.2360916592$"
      ],
      "text/plain": [
       "6.83675719336409*V - 10641.2360916592"
      ]
     },
     "execution_count": 21,
     "metadata": {},
     "output_type": "execute_result"
    }
   ],
   "source": [
    "# Substitude x3 equilibrium point into I_dot\n",
    "I_dot_sub = I_dot.subs(PARAMETERS)\n",
    "I_dot_sub = I_dot_sub.subs([(x3, x3_sp)])\n",
    "I_dot_sub"
   ]
  },
  {
   "cell_type": "code",
   "execution_count": 23,
   "metadata": {},
   "outputs": [
    {
     "data": {
      "text/latex": [
       "$\\displaystyle 1556.47418661991$"
      ],
      "text/plain": [
       "1556.47418661991"
      ]
     },
     "execution_count": 23,
     "metadata": {},
     "output_type": "execute_result"
    }
   ],
   "source": [
    "# Solve for V when set equal to 0 (voltage equilibrium point)\n",
    "V_sp = sym.solve(I_dot_sub)[0]\n",
    "V_sp"
   ]
  }
 ],
 "metadata": {
  "kernelspec": {
   "display_name": "base",
   "language": "python",
   "name": "python3"
  },
  "language_info": {
   "codemirror_mode": {
    "name": "ipython",
    "version": 3
   },
   "file_extension": ".py",
   "mimetype": "text/x-python",
   "name": "python",
   "nbconvert_exporter": "python",
   "pygments_lexer": "ipython3",
   "version": "3.8.8"
  },
  "orig_nbformat": 4
 },
 "nbformat": 4,
 "nbformat_minor": 2
}

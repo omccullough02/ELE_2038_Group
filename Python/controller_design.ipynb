{
 "cells": [
  {
   "cell_type": "code",
   "execution_count": null,
   "metadata": {},
   "outputs": [],
   "source": [
    "!pip install control -U\n",
    "!pip install sympy -U"
   ]
  },
  {
   "cell_type": "code",
   "execution_count": null,
   "metadata": {},
   "outputs": [],
   "source": [
    "import control as ctrl"
   ]
  },
  {
   "cell_type": "code",
   "execution_count": null,
   "metadata": {},
   "outputs": [],
   "source": [
    "# Numeric values of partial derivatives of theta and I_dot calculated in system_derivation.ipynb\n",
    "A = 209.109726489593\n",
    "B = -16.0791589363018\n",
    "C = 662.228074503118\n",
    "D = 0\n",
    "E = -15040.865825401\n",
    "F = 6.83675719336409\n",
    "s = ctrl.TransferFunction.s\n",
    "\n",
    "Gx = (C * F) / ((s ** 3) - s ** 2 * (B + E) - s * (A - B * E) + A * E)\n",
    "Gx"
   ]
  }
 ],
 "metadata": {
  "language_info": {
   "name": "python"
  },
  "orig_nbformat": 4
 },
 "nbformat": 4,
 "nbformat_minor": 2
}

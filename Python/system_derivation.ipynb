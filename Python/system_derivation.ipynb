{
 "cells": [
  {
   "cell_type": "code",
   "execution_count": 1,
   "metadata": {},
   "outputs": [
    {
     "name": "stdout",
     "output_type": "stream",
     "text": [
      "Requirement already satisfied: sympy in /Users/unisira/opt/anaconda3/lib/python3.8/site-packages (1.11.1)\n",
      "Requirement already satisfied: mpmath>=0.19 in /Users/unisira/opt/anaconda3/lib/python3.8/site-packages (from sympy) (1.2.1)\n"
     ]
    }
   ],
   "source": [
    "!pip install sympy -U"
   ]
  },
  {
   "cell_type": "code",
   "execution_count": 2,
   "metadata": {},
   "outputs": [],
   "source": [
    "import sympy as sym\n",
    "import control as ctrl\n",
    "import matplotlib.pyplot as plt\n",
    "import numpy as np\n",
    "\n",
    "# Define constants used\n",
    "m, g, d, delta, R, L_0, L_1, alpha, c, k, b, phi = sym.symbols('m, g, d, delta, R, L_0, L_1, alpha, c, k, b, phi', positive=True)\n",
    "# Define SSR state variables and inputs\n",
    "V, x1, x2, x3 = sym.symbols('V, x1, x2, x3', real=True)"
   ]
  },
  {
   "cell_type": "code",
   "execution_count": 3,
   "metadata": {},
   "outputs": [
    {
     "data": {
      "text/latex": [
       "$\\displaystyle \\frac{5 \\left(- b x_{2} + \\frac{c x_{3}^{2}}{\\left(\\delta - x_{1}\\right)^{2}} + g m \\sin{\\left(\\phi \\right)} - k \\left(- d + x_{1}\\right)\\right)}{7 m}$"
      ],
      "text/plain": [
       "5*(-b*x2 + c*x3**2/(delta - x1)**2 + g*m*sin(phi) - k*(-d + x1))/(7*m)"
      ]
     },
     "execution_count": 3,
     "metadata": {},
     "output_type": "execute_result"
    }
   ],
   "source": [
    "# theta(x1, x2, x3)\n",
    "theta = 5 / (7 * m) * ((c * (x3 ** 2) / (delta - x1) ** 2) + m * g * sym.sin(phi) - k * (x1 - d) - b * x2)\n",
    "theta"
   ]
  },
  {
   "cell_type": "code",
   "execution_count": 4,
   "metadata": {},
   "outputs": [
    {
     "data": {
      "text/latex": [
       "$\\displaystyle \\frac{- R x_{3} + V}{L_{0} + L_{1} e^{- \\alpha \\left(\\delta - x_{1}\\right)}}$"
      ],
      "text/plain": [
       "(-R*x3 + V)/(L_0 + L_1*exp(-alpha*(delta - x1)))"
      ]
     },
     "execution_count": 4,
     "metadata": {},
     "output_type": "execute_result"
    }
   ],
   "source": [
    "# Inductance \n",
    "L = L_0 + L_1 * sym.exp(-alpha * (delta - x1))\n",
    "\n",
    "# I_dot(x1, x3, V)\n",
    "I_dot = (V - x3 * R) / L\n",
    "I_dot"
   ]
  },
  {
   "cell_type": "code",
   "execution_count": 5,
   "metadata": {},
   "outputs": [],
   "source": [
    "# Equilibrium points calculated in equilibrium_points.ipynb\n",
    "\n",
    "# x1 is the position of the ball, we are aiming to keep it around 0.5 m\n",
    "x1_sp = 0.5\n",
    "# x2 is the velocity of the ball, we are aiming to keep it around 0 m/s\n",
    "x2_sp = 0\n",
    "# Current\n",
    "x3_sp = 0.707488266645418\n",
    "# Voltage\n",
    "V_sp = 1556.47418661991"
   ]
  },
  {
   "cell_type": "code",
   "execution_count": 6,
   "metadata": {},
   "outputs": [],
   "source": [
    "# All parameters used in a list\n",
    "PARAMETERS = [\n",
    "    (m, 0.462),\n",
    "    (g, 9.81),\n",
    "    (d, 0.42),\n",
    "    (delta, 0.65),\n",
    "    (R, 2200),\n",
    "    (L_0, 0.125),\n",
    "    (L_1, 0.0241),\n",
    "    (alpha, 1 / 1.2),\n",
    "    (c, 6.811),\n",
    "    (k, 1885),\n",
    "    (b, 10.4),\n",
    "    (phi, 41),\n",
    "    (x1, x1_sp),\n",
    "    (x2, x2_sp),\n",
    "    (x3, x3_sp),\n",
    "    (V, V_sp)\n",
    "]"
   ]
  },
  {
   "cell_type": "code",
   "execution_count": 7,
   "metadata": {},
   "outputs": [
    {
     "data": {
      "text/latex": [
       "$\\displaystyle 7.00714285714286 \\sin{\\left(41 \\right)} + 1.11149170069589$"
      ],
      "text/plain": [
       "7.00714285714286*sin(41) + 1.11149170069589"
      ]
     },
     "execution_count": 7,
     "metadata": {},
     "output_type": "execute_result"
    }
   ],
   "source": [
    "# The value of theta with all equilibrium points substituted in should be 0,\n",
    "# we get a value which is very close to 0 due to small rounding issues\n",
    "\n",
    "theta_eq = theta.subs(PARAMETERS)\n",
    "theta_eq"
   ]
  },
  {
   "cell_type": "code",
   "execution_count": 8,
   "metadata": {},
   "outputs": [
    {
     "data": {
      "text/latex": [
       "$\\displaystyle -6.54836185276508 \\cdot 10^{-11}$"
      ],
      "text/plain": [
       "-6.54836185276508e-11"
      ]
     },
     "execution_count": 8,
     "metadata": {},
     "output_type": "execute_result"
    }
   ],
   "source": [
    "# Again, the value we get here is very close to 0. This can be accounted for through rounding\n",
    "# errors throughout our calculations\n",
    "\n",
    "I_dot_eq = I_dot.subs(PARAMETERS)\n",
    "I_dot_eq"
   ]
  }
 ],
 "metadata": {
  "kernelspec": {
   "display_name": "base",
   "language": "python",
   "name": "python3"
  },
  "language_info": {
   "codemirror_mode": {
    "name": "ipython",
    "version": 3
   },
   "file_extension": ".py",
   "mimetype": "text/x-python",
   "name": "python",
   "nbconvert_exporter": "python",
   "pygments_lexer": "ipython3",
   "version": "3.8.8"
  },
  "orig_nbformat": 4
 },
 "nbformat": 4,
 "nbformat_minor": 2
}

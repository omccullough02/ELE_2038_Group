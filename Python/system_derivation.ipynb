{
 "cells": [
  {
   "cell_type": "code",
   "execution_count": 1,
   "metadata": {},
   "outputs": [
    {
     "name": "stdout",
     "output_type": "stream",
     "text": [
      "Requirement already satisfied: sympy in /Users/unisira/opt/anaconda3/lib/python3.8/site-packages (1.11.1)\n",
      "Requirement already satisfied: mpmath>=0.19 in /Users/unisira/opt/anaconda3/lib/python3.8/site-packages (from sympy) (1.2.1)\n"
     ]
    }
   ],
   "source": [
    "!pip install sympy -U"
   ]
  },
  {
   "cell_type": "code",
   "execution_count": 2,
   "metadata": {},
   "outputs": [],
   "source": [
    "import sympy as sym\n",
    "import control as ctrl\n",
    "import matplotlib.pyplot as plt\n",
    "import numpy as np\n",
    "\n",
    "# Define constants used\n",
    "m, g, d, delta, R, L_0, L_1, alpha, c, k, b, phi = sym.symbols('m, g, d, delta, R, L_0, L_1, alpha, c, k, b, phi', positive=True)\n",
    "# Define SSR state variables and inputs\n",
    "V, x1, x2, x3 = sym.symbols('V, x1, x2, x3', real=True)"
   ]
  },
  {
   "cell_type": "code",
   "execution_count": 3,
   "metadata": {},
   "outputs": [
    {
     "data": {
      "text/latex": [
       "$\\displaystyle \\frac{5 \\left(- b x_{2} + \\frac{c x_{3}^{2}}{\\left(\\delta - x_{1}\\right)^{2}} + g m \\sin{\\left(\\phi \\right)} - k \\left(- d + x_{1}\\right)\\right)}{7 m}$"
      ],
      "text/plain": [
       "5*(-b*x2 + c*x3**2/(delta - x1)**2 + g*m*sin(phi) - k*(-d + x1))/(7*m)"
      ]
     },
     "execution_count": 3,
     "metadata": {},
     "output_type": "execute_result"
    }
   ],
   "source": [
    "# theta(x1, x2, x3)\n",
    "theta = 5 / (7 * m) * ((c * (x3 ** 2) / (delta - x1) ** 2) + m * g * sym.sin(phi) - k * (x1 - d) - b * x2)\n",
    "theta"
   ]
  },
  {
   "cell_type": "code",
   "execution_count": 4,
   "metadata": {},
   "outputs": [
    {
     "data": {
      "text/latex": [
       "$\\displaystyle \\frac{- R x_{3} + V}{L_{0} + L_{1} e^{- \\alpha \\left(\\delta - x_{1}\\right)}}$"
      ],
      "text/plain": [
       "(-R*x3 + V)/(L_0 + L_1*exp(-alpha*(delta - x1)))"
      ]
     },
     "execution_count": 4,
     "metadata": {},
     "output_type": "execute_result"
    }
   ],
   "source": [
    "# Inductance \n",
    "L = L_0 + L_1 * sym.exp(-alpha * (delta - x1))\n",
    "\n",
    "# I_dot(x1, x3, V)\n",
    "I_dot = (V - x3 * R) / L\n",
    "I_dot"
   ]
  },
  {
   "cell_type": "code",
   "execution_count": 5,
   "metadata": {},
   "outputs": [],
   "source": [
    "# Equilibrium points calculated in equilibrium_points.ipynb\n",
    "\n",
    "# x1 is the position of the ball, we are aiming to keep it around 0.5 m\n",
    "x1_sp = 0.5\n",
    "# x2 is the velocity of the ball, we are aiming to keep it around 0 m/s\n",
    "x2_sp = 0\n",
    "# Current\n",
    "x3_sp = 0.707488266645418\n",
    "# Voltage\n",
    "V_sp = 1556.47418661991"
   ]
  },
  {
   "cell_type": "code",
   "execution_count": 6,
   "metadata": {},
   "outputs": [],
   "source": [
    "# Parameters provided to us and calculated set-points\n",
    "PARAMETERS = [\n",
    "    (m, 0.462),\n",
    "    (g, 9.81),\n",
    "    (d, 0.42),\n",
    "    (delta, 0.65),\n",
    "    (R, 2200),\n",
    "    (L_0, 0.125),\n",
    "    (L_1, 0.0241),\n",
    "    (alpha, 1.2), # changed from 1/1.2 to preserve m^-1 unit\n",
    "    (c, 0.006811), # changed from 6.811 to change unit to m^3 kg/ A^2 s^2\n",
    "    (k, 1885),\n",
    "    (b, 10.4),\n",
    "    (phi, 41),\n",
    "    (x1, x1_sp),\n",
    "    (x2, x2_sp),\n",
    "    (x3, x3_sp),\n",
    "    (V, V_sp)\n",
    "]"
   ]
  },
  {
   "cell_type": "code",
   "execution_count": 7,
   "metadata": {},
   "outputs": [
    {
     "data": {
      "text/latex": [
       "$\\displaystyle -232.913545280099 + 7.00714285714286 \\sin{\\left(41 \\right)}$"
      ],
      "text/plain": [
       "-232.913545280099 + 7.00714285714286*sin(41)"
      ]
     },
     "execution_count": 7,
     "metadata": {},
     "output_type": "execute_result"
    }
   ],
   "source": [
    "# The value of theta with all equilibrium points substituted in should be 0,\n",
    "# we get a value which is very close to 0 due to small rounding issues\n",
    "\n",
    "theta_eq = theta.subs(PARAMETERS)\n",
    "theta_eq"
   ]
  },
  {
   "cell_type": "code",
   "execution_count": 8,
   "metadata": {},
   "outputs": [
    {
     "data": {
      "text/latex": [
       "$\\displaystyle -6.54836185276508 \\cdot 10^{-11}$"
      ],
      "text/plain": [
       "-6.54836185276508e-11"
      ]
     },
     "execution_count": 8,
     "metadata": {},
     "output_type": "execute_result"
    }
   ],
   "source": [
    "# Again, the value we get here is very close to 0. This can be accounted for through rounding\n",
    "# errors throughout our calculations\n",
    "\n",
    "I_dot_eq = I_dot.subs(PARAMETERS)\n",
    "I_dot_eq"
   ]
  },
  {
   "cell_type": "code",
   "execution_count": 9,
   "metadata": {},
   "outputs": [],
   "source": [
    "# Determine partial derivatives for Taylor's theorem\n",
    "\n",
    "A = d_theta_x1 = theta.diff(x1)\n",
    "B = d_theta_x2 = theta.diff(x2)\n",
    "C = d_theta_x3 = theta.diff(x3)\n",
    "\n",
    "D = d_I_dot_x1 = I_dot.diff(x1)\n",
    "E = d_I_dot_x3 = I_dot.diff(x3)\n",
    "F = d_I_dot_V = I_dot.diff(V)"
   ]
  },
  {
   "cell_type": "code",
   "execution_count": 10,
   "metadata": {},
   "outputs": [
    {
     "data": {
      "text/latex": [
       "$\\displaystyle - \\frac{5 b x_{2}}{7 m} + \\frac{10 c x_{3} \\left(x_{3} - 0.707488266645418\\right)}{7 m \\left(\\delta - x_{1}\\right)^{2}} + \\frac{5 \\left(x_{1} - 0.5\\right) \\left(\\frac{2 c x_{3}^{2}}{\\left(\\delta - x_{1}\\right)^{3}} - k\\right)}{7 m}$"
      ],
      "text/plain": [
       "-5*b*x2/(7*m) + 10*c*x3*(x3 - 0.707488266645418)/(7*m*(delta - x1)**2) + 5*(x1 - 0.5)*(2*c*x3**2/(delta - x1)**3 - k)/(7*m)"
      ]
     },
     "execution_count": 10,
     "metadata": {},
     "output_type": "execute_result"
    }
   ],
   "source": [
    "# theta_eq subsituted for 0 here to simplify equation\n",
    "theta_lin = 0 + A*(x1 - x1_sp) + B*(x2 - x2_sp) + C*(x3 - x3_sp)\n",
    "theta_lin "
   ]
  },
  {
   "cell_type": "code",
   "execution_count": 11,
   "metadata": {},
   "outputs": [
    {
     "data": {
      "text/latex": [
       "$\\displaystyle - \\frac{L_{1} \\alpha \\left(x_{1} - 0.5\\right) \\left(- R x_{3} + V\\right) e^{- \\alpha \\left(\\delta - x_{1}\\right)}}{\\left(L_{0} + L_{1} e^{- \\alpha \\left(\\delta - x_{1}\\right)}\\right)^{2}} - \\frac{R \\left(x_{3} - 0.707488266645418\\right)}{L_{0} + L_{1} e^{- \\alpha \\left(\\delta - x_{1}\\right)}} + \\frac{V - 1556.47418661991}{L_{0} + L_{1} e^{- \\alpha \\left(\\delta - x_{1}\\right)}}$"
      ],
      "text/plain": [
       "-L_1*alpha*(x1 - 0.5)*(-R*x3 + V)*exp(-alpha*(delta - x1))/(L_0 + L_1*exp(-alpha*(delta - x1)))**2 - R*(x3 - 0.707488266645418)/(L_0 + L_1*exp(-alpha*(delta - x1))) + (V - 1556.47418661991)/(L_0 + L_1*exp(-alpha*(delta - x1)))"
      ]
     },
     "execution_count": 11,
     "metadata": {},
     "output_type": "execute_result"
    }
   ],
   "source": [
    "# I_dot_eq subsituted for 0 here to simplify equation\n",
    "I_dot_lin = 0 + D*(x1 - x1_sp) + E*(x3 - x3_sp) +  F*(V - V_sp)   \n",
    "I_dot_lin "
   ]
  },
  {
   "cell_type": "code",
   "execution_count": 15,
   "metadata": {},
   "outputs": [],
   "source": [
    "# Determine constant values for partial derivatives\n",
    "A = d_theta_x1.subs(PARAMETERS)\n",
    "B = d_theta_x2.subs(PARAMETERS)\n",
    "C = d_theta_x3.subs(PARAMETERS)\n",
    "\n",
    "D = d_I_dot_x1.subs(PARAMETERS)\n",
    "E = d_I_dot_x3.subs(PARAMETERS)\n",
    "F = d_I_dot_V.subs(PARAMETERS)"
   ]
  },
  {
   "cell_type": "code",
   "execution_count": 22,
   "metadata": {},
   "outputs": [
    {
     "data": {
      "text/latex": [
       "$\\displaystyle 6.89037357307828$"
      ],
      "text/plain": [
       "6.89037357307828"
      ]
     },
     "execution_count": 22,
     "metadata": {},
     "output_type": "execute_result"
    }
   ],
   "source": [
    "F"
   ]
  }
 ],
 "metadata": {
  "kernelspec": {
   "display_name": "base",
   "language": "python",
   "name": "python3"
  },
  "language_info": {
   "codemirror_mode": {
    "name": "ipython",
    "version": 3
   },
   "file_extension": ".py",
   "mimetype": "text/x-python",
   "name": "python",
   "nbconvert_exporter": "python",
   "pygments_lexer": "ipython3",
   "version": "3.8.8"
  },
  "orig_nbformat": 4
 },
 "nbformat": 4,
 "nbformat_minor": 2
}
